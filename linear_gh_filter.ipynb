{
 "cells": [
  {
   "cell_type": "code",
   "execution_count": 98,
   "metadata": {},
   "outputs": [],
   "source": [
    "%matplotlib notebook\n",
    "\n",
    "import numpy as np\n",
    "import matplotlib.pyplot as plt\n",
    "from matplotlib.animation import FuncAnimation\n",
    "import pandas as pd\n",
    "import seaborn as sns\n",
    "\n",
    "x0=0\n",
    "filtered=[]\n",
    "x_est=80\n",
    "dt=1\n",
    "g=.2\n",
    "h=.001\n",
    "dx=2\n",
    "acc=.5\n",
    "model_value=[x0+dx*t for t in range(100)]\n",
    "measurment=model_value+np.random.normal(0,15,100)\n",
    "\n",
    "#g h filter\n",
    "\n",
    "for values in measurment: \n",
    "    x_pred=x_est+dx*dt\n",
    "    residual= values-x_pred\n",
    "    dx=dx+ residual*(h)/dt\n",
    "    x_est=x_pred+residual*(g)\n",
    "    filtered.append(x_est)\n",
    "x=np.linspace(0,99,100)\n",
    "df=pd.DataFrame(filtered,x)\n",
    "df.columns=['Measurement']\n",
    "fig = plt.figure(figsize=(10,6))\n",
    "plt.xlim(0,100)\n",
    "plt.ylim(0,210)\n",
    "\n",
    "def animate(i):\n",
    "    data = df.iloc[:int(i+1)]\n",
    "    p = sns.lineplot(x=data.index, y=data['Measurement'],data=data, color=\"r\")\n",
    "plt.plot(model_value,'k',label=\"Original value\")\n",
    "plt.plot(measurment,'bo',markersize=2,label='Sensor Measurement')\n",
    "ani = FuncAnimation(fig, animate, frames=120, repeat=True)\n",
    "\n",
    "plt.show()"
   ]
  }
 ],
 "metadata": {
  "kernelspec": {
   "display_name": "Python 3",
   "language": "python",
   "name": "python3"
  },
  "language_info": {
   "codemirror_mode": {
    "name": "ipython",
    "version": 3
   },
   "file_extension": ".py",
   "mimetype": "text/x-python",
   "name": "python",
   "nbconvert_exporter": "python",
   "pygments_lexer": "ipython3",
   "version": "3.7.3"
  }
 },
 "nbformat": 4,
 "nbformat_minor": 2
}
